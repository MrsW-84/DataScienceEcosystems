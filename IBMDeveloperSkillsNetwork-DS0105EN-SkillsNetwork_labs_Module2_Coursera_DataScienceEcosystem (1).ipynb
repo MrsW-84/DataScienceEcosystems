{
  "metadata": {
    "kernelspec": {
      "name": "python",
      "display_name": "Pyolite",
      "language": "python"
    },
    "language_info": {
      "codemirror_mode": {
        "name": "python",
        "version": 3
      },
      "file_extension": ".py",
      "mimetype": "text/x-python",
      "name": "python",
      "nbconvert_exporter": "python",
      "pygments_lexer": "ipython3",
      "version": "3.8"
    }
  },
  "nbformat_minor": 4,
  "nbformat": 4,
  "cells": [
    {
      "cell_type": "markdown",
      "source": "<center>\n    <img src=\"https://cf-courses-data.s3.us.cloud-object-storage.appdomain.cloud/IBMDeveloperSkillsNetwork-DS0105EN-SkillsNetwork/labs/Module2/images/SN_web_lightmode.png\" width=\"300\" alt=\"cognitiveclass.ai logo\">\n</center>\n",
      "metadata": {}
    },
    {
      "cell_type": "markdown",
      "source": "#### Add your code below following the instructions given in the course\n",
      "metadata": {}
    },
    {
      "cell_type": "markdown",
      "source": "# Data System Tools and Ecosystem # ",
      "metadata": {}
    },
    {
      "cell_type": "markdown",
      "source": "This notebook will give a full summary of Data Science, Tools used and the Ecosystem.",
      "metadata": {}
    },
    {
      "cell_type": "markdown",
      "source": "<b> Objectives:  \n- List Commonly used Libraries\n- List Data Science Tools\n- Evaluate Arithmetic Expressions\n- Name popular Data Scientist languages \n- Convert minutes into hours    \n    \n    \n\n",
      "metadata": {}
    },
    {
      "cell_type": "markdown",
      "source": "Here are a few examples of some popular languages used by Data Scientists: \n1. Python\n2. R.\n3. SAS\n4. JAVA",
      "metadata": {}
    },
    {
      "cell_type": "markdown",
      "source": "These libraries are commonly used by Data Scientists:\n- RMySQL\n- Pandas\n- TensorFlow",
      "metadata": {}
    },
    {
      "cell_type": "markdown",
      "source": "|  Data Science Tools | \n|---------------------| \n|Jupyter Notebook     |\n|IBM Watson Studio    | \n| Google Analytics    | ",
      "metadata": {}
    },
    {
      "cell_type": "markdown",
      "source": "### Python allows Arithmetic expressions to be evaluated,below shows a few examples ###",
      "metadata": {}
    },
    {
      "cell_type": "markdown",
      "source": "This expression shows simple arithmetic to multiply then add integers",
      "metadata": {}
    },
    {
      "cell_type": "code",
      "source": "3 * 4 + 5",
      "metadata": {
        "trusted": true
      },
      "execution_count": 12,
      "outputs": [
        {
          "execution_count": 12,
          "output_type": "execute_result",
          "data": {
            "text/plain": "17"
          },
          "metadata": {}
        }
      ]
    },
    {
      "cell_type": "markdown",
      "source": "This equation will show how to convert 200 minutes into hours by dividing 60",
      "metadata": {}
    },
    {
      "cell_type": "code",
      "source": "200 / 60 ",
      "metadata": {
        "trusted": true
      },
      "execution_count": 13,
      "outputs": [
        {
          "execution_count": 13,
          "output_type": "execute_result",
          "data": {
            "text/plain": "3.3333333333333335"
          },
          "metadata": {}
        }
      ]
    },
    {
      "cell_type": "markdown",
      "source": "## Author ##\nWasheika Jenkins",
      "metadata": {}
    }
  ]
}